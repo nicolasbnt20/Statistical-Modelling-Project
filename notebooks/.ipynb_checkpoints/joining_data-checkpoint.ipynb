{
 "cells": [
  {
   "cell_type": "markdown",
   "metadata": {},
   "source": [
    "Join the data from Part 1 with the data from Part 2 to create a new dataframe."
   ]
  },
  {
   "cell_type": "code",
   "execution_count": 47,
   "metadata": {},
   "outputs": [
    {
     "name": "stdout",
     "output_type": "stream",
     "text": [
      "(9356, 11)\n"
     ]
    },
    {
     "data": {
      "text/html": [
       "<div>\n",
       "<style scoped>\n",
       "    .dataframe tbody tr th:only-of-type {\n",
       "        vertical-align: middle;\n",
       "    }\n",
       "\n",
       "    .dataframe tbody tr th {\n",
       "        vertical-align: top;\n",
       "    }\n",
       "\n",
       "    .dataframe thead th {\n",
       "        text-align: right;\n",
       "    }\n",
       "</style>\n",
       "<table border=\"1\" class=\"dataframe\">\n",
       "  <thead>\n",
       "    <tr style=\"text-align: right;\">\n",
       "      <th></th>\n",
       "      <th>station_name</th>\n",
       "      <th>latitude</th>\n",
       "      <th>longitude</th>\n",
       "      <th>free_bikes</th>\n",
       "      <th>empty_slots</th>\n",
       "      <th>total_number_bikes</th>\n",
       "      <th>station_id</th>\n",
       "      <th>poi_name</th>\n",
       "      <th>distance</th>\n",
       "      <th>address</th>\n",
       "      <th>rating</th>\n",
       "    </tr>\n",
       "  </thead>\n",
       "  <tbody>\n",
       "    <tr>\n",
       "      <th>0</th>\n",
       "      <td>Argenson - Château</td>\n",
       "      <td>48.888559</td>\n",
       "      <td>2.2642</td>\n",
       "      <td>6</td>\n",
       "      <td>16</td>\n",
       "      <td>22</td>\n",
       "      <td>0</td>\n",
       "      <td>Bustronome</td>\n",
       "      <td>2800.624423</td>\n",
       "      <td>2 avenue Kléber</td>\n",
       "      <td>4.5</td>\n",
       "    </tr>\n",
       "    <tr>\n",
       "      <th>1</th>\n",
       "      <td>Argenson - Château</td>\n",
       "      <td>48.888559</td>\n",
       "      <td>2.2642</td>\n",
       "      <td>6</td>\n",
       "      <td>16</td>\n",
       "      <td>22</td>\n",
       "      <td>0</td>\n",
       "      <td>La Boutarde</td>\n",
       "      <td>587.169143</td>\n",
       "      <td>4 rue Boutard</td>\n",
       "      <td>4.5</td>\n",
       "    </tr>\n",
       "    <tr>\n",
       "      <th>2</th>\n",
       "      <td>Argenson - Château</td>\n",
       "      <td>48.888559</td>\n",
       "      <td>2.2642</td>\n",
       "      <td>6</td>\n",
       "      <td>16</td>\n",
       "      <td>22</td>\n",
       "      <td>0</td>\n",
       "      <td>Sébillon</td>\n",
       "      <td>1526.963348</td>\n",
       "      <td>20 avenue Charles de Gaulle</td>\n",
       "      <td>4.0</td>\n",
       "    </tr>\n",
       "    <tr>\n",
       "      <th>3</th>\n",
       "      <td>Argenson - Château</td>\n",
       "      <td>48.888559</td>\n",
       "      <td>2.2642</td>\n",
       "      <td>6</td>\n",
       "      <td>16</td>\n",
       "      <td>22</td>\n",
       "      <td>0</td>\n",
       "      <td>Chartier Laure et Thomas</td>\n",
       "      <td>1884.634786</td>\n",
       "      <td>146 Rue Prés Wilson</td>\n",
       "      <td>3.9</td>\n",
       "    </tr>\n",
       "    <tr>\n",
       "      <th>4</th>\n",
       "      <td>Argenson - Château</td>\n",
       "      <td>48.888559</td>\n",
       "      <td>2.2642</td>\n",
       "      <td>6</td>\n",
       "      <td>16</td>\n",
       "      <td>22</td>\n",
       "      <td>0</td>\n",
       "      <td>Le Petit Poucet</td>\n",
       "      <td>950.317820</td>\n",
       "      <td>4 rond point Claude Monet</td>\n",
       "      <td>3.5</td>\n",
       "    </tr>\n",
       "  </tbody>\n",
       "</table>\n",
       "</div>"
      ],
      "text/plain": [
       "         station_name   latitude  longitude  free_bikes  empty_slots  \\\n",
       "0  Argenson - Château  48.888559     2.2642           6           16   \n",
       "1  Argenson - Château  48.888559     2.2642           6           16   \n",
       "2  Argenson - Château  48.888559     2.2642           6           16   \n",
       "3  Argenson - Château  48.888559     2.2642           6           16   \n",
       "4  Argenson - Château  48.888559     2.2642           6           16   \n",
       "\n",
       "   total_number_bikes  station_id                  poi_name     distance  \\\n",
       "0                  22           0                Bustronome  2800.624423   \n",
       "1                  22           0               La Boutarde   587.169143   \n",
       "2                  22           0                  Sébillon  1526.963348   \n",
       "3                  22           0  Chartier Laure et Thomas  1884.634786   \n",
       "4                  22           0           Le Petit Poucet   950.317820   \n",
       "\n",
       "                       address  rating  \n",
       "0              2 avenue Kléber     4.5  \n",
       "1                4 rue Boutard     4.5  \n",
       "2  20 avenue Charles de Gaulle     4.0  \n",
       "3          146 Rue Prés Wilson     3.9  \n",
       "4    4 rond point Claude Monet     3.5  "
      ]
     },
     "execution_count": 47,
     "metadata": {},
     "output_type": "execute_result"
    }
   ],
   "source": [
    "import pandas as pd \n",
    "import numpy as np\n",
    "\n",
    "df_bikes_paris = pd.read_csv('bikes_paris_csv.csv')\n",
    "df_yelp = pd.read_csv('df_yelp_csv.csv')\n",
    "\n",
    "df_bikes_paris.head()# Making sure my DataFrame loaded correctly\n",
    "df_yelp.head()\n",
    "\n",
    "left = df_bikes_paris\n",
    "right = df_yelp\n",
    "\n",
    "df_merged = pd.merge(left, right, left_on='station_id', right_on='station', how='left')\n",
    "df_merged.head()\n",
    "\n",
    "df_merged.rename(columns={\n",
    "    'name_x' : 'station_name',\n",
    "    'name_y' : 'poi_name'\n",
    "}, inplace=True)\n",
    "df_merged.drop(columns = 'station', inplace=True) # I have 2 identical columns due to the join so I decided to drop one of them\n",
    "\n",
    "print(df_merged.shape)\n",
    "\n",
    "df_merged.duplicated().sum() # I have one duplicate row to remove\n",
    "df_merged = df_merged.drop_duplicates()\n",
    "\n",
    "df_merged.isnull().sum() # This shows 32 address with null values but it won't affect most operations and I won't be using address in my model so I can let them like that\n",
    "\n",
    "df_merged.describe() # having a total_number_bikes = 0 and rating = 0 seems odd\n",
    "\n",
    "df_merged[df_merged['total_number_bikes'] == 0] # A total of 100 rows are present where the total_number_bikes is 0 which is impossible to even be considered a viable station\n",
    "df_merged = df_merged[df_merged['total_number_bikes'] != 0] # I choose to remove these rows since a station with 0 bike slots cannot provide any services. These must be incorrectly inputed stations\n",
    "\n",
    "df_merged[df_merged['rating'] == 0] #321 rows are 0, I will assume it means there is no rating and so, replace these by nan values not to skew the descriptive statistics\n",
    "df_merged['rating'] = df_merged['rating'].replace(0, np.nan)\n",
    "\n",
    "df_merged.head()\n"
   ]
  },
  {
   "cell_type": "markdown",
   "metadata": {},
   "source": [
    "Provide a visualization that you used as part of your EDA process. Explain the initial pattern or relationship you discoved through this visualization. "
   ]
  },
  {
   "cell_type": "code",
   "execution_count": 48,
   "metadata": {},
   "outputs": [
    {
     "data": {
      "image/png": "[encoded data removed]",
      "text/plain": [
       "<Figure size 640x480 with 1 Axes>"
      ]
     },
     "metadata": {},
     "output_type": "display_data"
    },
    {
     "data": {
      "image/png": "[encoded data removed]",
      "text/plain": [
       "<Figure size 640x480 with 1 Axes>"
      ]
     },
     "metadata": {},
     "output_type": "display_data"
    }
   ],
   "source": [
    "import seaborn as sns\n",
    "import matplotlib.pyplot as plt\n",
    "\n",
    "sns.histplot(df_merged['rating'], bins = 10, kde = False)\n",
    "plt.title('Distribution of POIs ratings')\n",
    "plt.xlabel('rating')\n",
    "plt.ylabel('frequency')\n",
    "plt.show()\n",
    "# Here we can confirm that with us removing the rating == 0, the values are between 1 and 5 like it was probably meant to be and that this is a right-skewed distribution, suggesting a high average satisfaction\n",
    "\n",
    "sns.boxplot(x=df_merged['distance'])\n",
    "plt.title('Distribution of distance from stations to POIs')\n",
    "plt.xlabel('Distance in meters')\n",
    "plt.show()\n",
    "# This boxplot shows a significant number of outliers, beyong 3000 meters so well above the 1000 search radius set in the Yelp API. This suggests unexpected data and a bit of a misunderstanding/ inconsistencies with the API\n",
    "(df_merged['distance'] > 1000).sum()\n",
    "# With 4979 values, almost half the data is outside our initial radius which in a huge amount. Since the goal of this analysis relies on the presence of certain characteristics of NEARBY POIs, keeping this data would \n",
    "# completely dilute the precision and reliability of our future model. Even though this represents a considerable loss of data, I will filter out these rows to have a more meaningful and valid model later on\n",
    "df_merged = df_merged[df_merged['distance'] <= 1000]\n",
    "\n",
    "# Since I removed a big amount of data with filtering out some distances, I will, instead of cutting or letting the ratings nulls for previous 0, impute them with the mean to keep a certain amount of data.\n",
    "df_merged['rating'] = df_merged['rating'].fillna(df_merged['rating'].mean())\n",
    "                                                 "
   ]
  },
  {
   "cell_type": "code",
   "execution_count": 49,
   "metadata": {},
   "outputs": [],
   "source": [
    "df_merged.to_csv('df_merged_clean_csv.csv', index = False)"
   ]
  },
  {
   "cell_type": "markdown",
   "metadata": {},
   "source": [
    "# Database"
   ]
  },
  {
   "cell_type": "markdown",
   "metadata": {},
   "source": [
    "Put all your results in an SQLite3 database (remember, SQLite stores its databases as files in your local machine - make sure to create your database in your project's data/ directory!)"
   ]
  },
  {
   "cell_type": "code",
   "execution_count": 55,
   "metadata": {},
   "outputs": [
    {
     "data": {
      "text/plain": [
       "4276"
      ]
     },
     "execution_count": 55,
     "metadata": {},
     "output_type": "execute_result"
    }
   ],
   "source": [
    "import sqlite3\n",
    "import os\n",
    "\n",
    "os.makedirs('data', exist_ok = True) # checking or creating the Data folder\n",
    "\n",
    "connection = sqlite3.connect('data/stations_pois.db') # establishing the connection\n",
    "cursor = connection.cursor() \n",
    "\n",
    "df_sqlite = pd.read_csv('df_merged_clean_csv.csv')\n",
    "\n",
    "df_sqlite.to_sql('stations_pois', connection, if_exists = 'replace', index = False)\n"
   ]
  },
  {
   "cell_type": "markdown",
   "metadata": {},
   "source": [
    "Look at the data before and after the join to validate your data."
   ]
  },
  {
   "cell_type": "code",
   "execution_count": 58,
   "metadata": {},
   "outputs": [
    {
     "name": "stdout",
     "output_type": "stream",
     "text": [
      "[('stations_pois',)]\n",
      "('Argenson - Château', 48.888559314669514, 2.2642001509666447, 6, 16, 22, 0, 'La Boutarde', 587.1691431050516, '4 rue Boutard', 4.5)\n",
      "('Argenson - Château', 48.888559314669514, 2.2642001509666447, 6, 16, 22, 0, 'Le Petit Poucet', 950.3178195345672, '4 rond point Claude Monet', 3.5)\n",
      "('Argenson - Château', 48.888559314669514, 2.2642001509666447, 6, 16, 22, 0, 'Papinou', 159.0310277767115, '26 Château', 3.2)\n",
      "('Argenson - Château', 48.888559314669514, 2.2642001509666447, 6, 16, 22, 0, \"Neuilly's\", 668.8688066863705, '14 rue Longchamp', 4.8)\n",
      "('Argenson - Château', 48.888559314669514, 2.2642001509666447, 6, 16, 22, 0, 'Lily de Neuilly', 691.7966320401799, '59 rue Chauveau', 4.4)\n"
     ]
    }
   ],
   "source": [
    "cursor.execute(\"SELECT name FROM sqlite_master WHERE type = 'table';\")\n",
    "print(cursor.fetchall()) # checking if the to.sql and execute worked \n",
    "\n",
    "cursor.execute(\"SELECT * FROM stations_pois LIMIT 5;\")\n",
    "rows = cursor.fetchall()\n",
    "for row in rows:\n",
    "    print(row) # displaying and looking at  the data "
   ]
  }
 ],
 "metadata": {
  "kernelspec": {
   "display_name": "theone",
   "language": "python",
   "name": "theone"
  },
  "language_info": {
   "codemirror_mode": {
    "name": "ipython",
    "version": 3
   },
   "file_extension": ".py",
   "mimetype": "text/x-python",
   "name": "python",
   "nbconvert_exporter": "python",
   "pygments_lexer": "ipython3",
   "version": "3.9.19"
  }
 },
 "nbformat": 4,
 "nbformat_minor": 4
}
