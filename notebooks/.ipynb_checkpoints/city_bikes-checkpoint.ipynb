{
 "cells": [
  {
   "cell_type": "markdown",
   "metadata": {},
   "source": [
    "# CityBikes"
   ]
  },
  {
   "cell_type": "markdown",
   "metadata": {},
   "source": [
    "Send a request to CityBikes for the city of your choice. "
   ]
  },
  {
   "cell_type": "code",
   "execution_count": 2,
   "metadata": {},
   "outputs": [],
   "source": [
    "import requests\n",
    "import pandas as pd"
   ]
  },
  {
   "cell_type": "code",
   "execution_count": 3,
   "metadata": {},
   "outputs": [
    {
     "data": {
      "text/plain": [
       "{'id': 'abu-dhabi-careem-bike',\n",
       " 'name': 'Abu Dhabi Careem BIKE',\n",
       " 'location': {'latitude': 24.4866,\n",
       "  'longitude': 54.3728,\n",
       "  'city': 'Abu Dhabi',\n",
       "  'country': 'AE'},\n",
       " 'href': '/v2/networks/abu-dhabi-careem-bike',\n",
       " 'company': ['Careem'],\n",
       " 'gbfs_href': 'https://dubai.publicbikesystem.net/customer/gbfs/v2/en/gbfs.json'}"
      ]
     },
     "execution_count": 3,
     "metadata": {},
     "output_type": "execute_result"
    }
   ],
   "source": [
    "url = 'http://api.citybik.es/v2/networks'\n",
    "response = requests.get(url)\n",
    "data = response.json()\n",
    "\n",
    "data.keys()\n",
    "data['networks'][0]"
   ]
  },
  {
   "cell_type": "code",
   "execution_count": 4,
   "metadata": {},
   "outputs": [],
   "source": [
    "paris_url = 'http://api.citybik.es/v2/networks/velib'\n",
    "response = requests.get(paris_url)\n",
    "paris_data = response.json()"
   ]
  },
  {
   "cell_type": "markdown",
   "metadata": {},
   "source": [
    "Parse through the response to get the details you want for the bike stations in that city (latitude, longitude, number of bikes). "
   ]
  },
  {
   "cell_type": "code",
   "execution_count": 5,
   "metadata": {},
   "outputs": [
    {
     "data": {
      "text/plain": [
       "dict_keys(['id', 'name', 'location', 'href', 'company', 'license', 'ebikes', 'gbfs_href', 'stations'])"
      ]
     },
     "execution_count": 5,
     "metadata": {},
     "output_type": "execute_result"
    }
   ],
   "source": [
    "paris_data.keys()\n",
    "paris_data['network'].keys()"
   ]
  },
  {
   "cell_type": "code",
   "execution_count": 6,
   "metadata": {},
   "outputs": [
    {
     "data": {
      "text/plain": [
       "{'id': '0003131bffcf527ba3a560fc46d38b6f',\n",
       " 'name': 'Argenson - Château',\n",
       " 'latitude': 48.888559314669514,\n",
       " 'longitude': 2.2642001509666447,\n",
       " 'timestamp': '2025-05-02T23:33:43.818025+00:00Z',\n",
       " 'free_bikes': 6,\n",
       " 'empty_slots': 16,\n",
       " 'extra': {'uid': '22002',\n",
       "  'renting': 1,\n",
       "  'returning': 1,\n",
       "  'last_updated': 1746228241,\n",
       "  'slots': 0,\n",
       "  'virtual': False,\n",
       "  'station_id': 34300292,\n",
       "  'banking': False,\n",
       "  'payment-terminal': False,\n",
       "  'normal_bikes': 4,\n",
       "  'ebikes': 2}}"
      ]
     },
     "execution_count": 6,
     "metadata": {},
     "output_type": "execute_result"
    }
   ],
   "source": [
    "paris_data['network']['stations'][0]"
   ]
  },
  {
   "cell_type": "code",
   "execution_count": 7,
   "metadata": {},
   "outputs": [
    {
     "data": {
      "text/plain": [
       "1462"
      ]
     },
     "execution_count": 7,
     "metadata": {},
     "output_type": "execute_result"
    }
   ],
   "source": [
    "stations = paris_data['network']['stations']\n",
    "len(stations) \n",
    "# Checking how many stations are available in this network to make sure there is enough to work with. "
   ]
  },
  {
   "cell_type": "markdown",
   "metadata": {},
   "source": [
    "Put your parsed results into a DataFrame."
   ]
  },
  {
   "cell_type": "code",
   "execution_count": 8,
   "metadata": {},
   "outputs": [
    {
     "data": {
      "text/html": [
       "<div>\n",
       "<style scoped>\n",
       "    .dataframe tbody tr th:only-of-type {\n",
       "        vertical-align: middle;\n",
       "    }\n",
       "\n",
       "    .dataframe tbody tr th {\n",
       "        vertical-align: top;\n",
       "    }\n",
       "\n",
       "    .dataframe thead th {\n",
       "        text-align: right;\n",
       "    }\n",
       "</style>\n",
       "<table border=\"1\" class=\"dataframe\">\n",
       "  <thead>\n",
       "    <tr style=\"text-align: right;\">\n",
       "      <th></th>\n",
       "      <th>name</th>\n",
       "      <th>latitude</th>\n",
       "      <th>longitude</th>\n",
       "      <th>free_bikes</th>\n",
       "      <th>empty_slots</th>\n",
       "      <th>total_number_bikes</th>\n",
       "      <th>station_id</th>\n",
       "    </tr>\n",
       "  </thead>\n",
       "  <tbody>\n",
       "    <tr>\n",
       "      <th>0</th>\n",
       "      <td>Argenson - Château</td>\n",
       "      <td>48.888559</td>\n",
       "      <td>2.264200</td>\n",
       "      <td>6</td>\n",
       "      <td>16</td>\n",
       "      <td>22</td>\n",
       "      <td>0</td>\n",
       "    </tr>\n",
       "    <tr>\n",
       "      <th>1</th>\n",
       "      <td>Saint Lambert - Blomet</td>\n",
       "      <td>48.836591</td>\n",
       "      <td>2.293056</td>\n",
       "      <td>22</td>\n",
       "      <td>3</td>\n",
       "      <td>25</td>\n",
       "      <td>1</td>\n",
       "    </tr>\n",
       "    <tr>\n",
       "      <th>2</th>\n",
       "      <td>Saint-Maur - République</td>\n",
       "      <td>48.864186</td>\n",
       "      <td>2.378317</td>\n",
       "      <td>19</td>\n",
       "      <td>19</td>\n",
       "      <td>38</td>\n",
       "      <td>2</td>\n",
       "    </tr>\n",
       "    <tr>\n",
       "      <th>3</th>\n",
       "      <td>Mairie de Rosny-sous-Bois</td>\n",
       "      <td>48.871257</td>\n",
       "      <td>2.486581</td>\n",
       "      <td>17</td>\n",
       "      <td>8</td>\n",
       "      <td>25</td>\n",
       "      <td>3</td>\n",
       "    </tr>\n",
       "    <tr>\n",
       "      <th>4</th>\n",
       "      <td>Mouton Duvernet - Général Leclerc</td>\n",
       "      <td>48.831633</td>\n",
       "      <td>2.329312</td>\n",
       "      <td>3</td>\n",
       "      <td>25</td>\n",
       "      <td>28</td>\n",
       "      <td>4</td>\n",
       "    </tr>\n",
       "  </tbody>\n",
       "</table>\n",
       "</div>"
      ],
      "text/plain": [
       "                                name   latitude  longitude  free_bikes  \\\n",
       "0                 Argenson - Château  48.888559   2.264200           6   \n",
       "1             Saint Lambert - Blomet  48.836591   2.293056          22   \n",
       "2            Saint-Maur - République  48.864186   2.378317          19   \n",
       "3          Mairie de Rosny-sous-Bois  48.871257   2.486581          17   \n",
       "4  Mouton Duvernet - Général Leclerc  48.831633   2.329312           3   \n",
       "\n",
       "   empty_slots  total_number_bikes  station_id  \n",
       "0           16                  22           0  \n",
       "1            3                  25           1  \n",
       "2           19                  38           2  \n",
       "3            8                  25           3  \n",
       "4           25                  28           4  "
      ]
     },
     "execution_count": 8,
     "metadata": {},
     "output_type": "execute_result"
    }
   ],
   "source": [
    "df_bikes_paris = pd.DataFrame(stations) \n",
    "# Naming clearly my DataFrame to avoid confusing with potential future DataFrames later.\n",
    "df_bikes_paris = df_bikes_paris[['name', 'latitude', 'longitude', 'free_bikes', 'empty_slots']]\n",
    "# I included the name just in case and chose to represent the number of bikes with 'free_bikes' and 'empty_slots', since 'slots' was 0 in a few examples I checked earlier.\n",
    "df_bikes_paris['total_number_bikes'] = df_bikes_paris['free_bikes'] + df_bikes_paris['empty_slots']\n",
    "df_bikes_paris['station_id'] = df_bikes_paris.index\n",
    "# I added also a station_id corresponding to the index of the station, to be able to join smoothly the DataFrames later on.\n",
    "df_bikes_paris = df_bikes_paris[:200] \n",
    "# I limited the dataset to 200: it should be enough for the analysis without making overwhelming or messy for future merging and loading.\n",
    "df_bikes_paris.head()"
   ]
  },
  {
   "cell_type": "code",
   "execution_count": 9,
   "metadata": {},
   "outputs": [],
   "source": [
    "df_bikes_paris.to_csv('bikes_paris_csv.csv', index = False)"
   ]
  },
  {
   "cell_type": "code",
   "execution_count": null,
   "metadata": {},
   "outputs": [],
   "source": []
  }
 ],
 "metadata": {
  "kernelspec": {
   "display_name": "theone",
   "language": "python",
   "name": "theone"
  },
  "language_info": {
   "codemirror_mode": {
    "name": "ipython",
    "version": 3
   },
   "file_extension": ".py",
   "mimetype": "text/x-python",
   "name": "python",
   "nbconvert_exporter": "python",
   "pygments_lexer": "ipython3",
   "version": "3.9.19"
  }
 },
 "nbformat": 4,
 "nbformat_minor": 4
}
